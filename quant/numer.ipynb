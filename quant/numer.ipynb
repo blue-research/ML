{
 "cells": [
  {
   "cell_type": "code",
   "execution_count": 1,
   "metadata": {},
   "outputs": [
    {
     "name": "stderr",
     "output_type": "stream",
     "text": [
      "2023-05-12 01:50:43,151 INFO numerapi.utils: target file already exists\n",
      "2023-05-12 01:50:43,159 INFO numerapi.utils: download complete\n",
      "2023-05-12 01:50:44,084 INFO numerapi.utils: target file already exists\n",
      "2023-05-12 01:50:44,090 INFO numerapi.utils: download complete\n"
     ]
    },
    {
     "ename": "",
     "evalue": "",
     "output_type": "error",
     "traceback": [
      "\u001b[1;31mThe Kernel crashed while executing code in the the current cell or a previous cell. Please review the code in the cell(s) to identify a possible cause of the failure. Click <a href='https://aka.ms/vscodeJupyterKernelCrash'>here</a> for more info. View Jupyter <a href='command:jupyter.viewOutput'>log</a> for further details."
     ]
    },
    {
     "ename": "",
     "evalue": "",
     "output_type": "error",
     "traceback": [
      "\u001b[1;31mCanceled future for execute_request message before replies were done"
     ]
    }
   ],
   "source": [
    "from numerapi import NumerAPI\n",
    "import pandas as pd\n",
    "import lightgbm as lgbm\n",
    "\n",
    "napi = NumerAPI()\n",
    "\n",
    "napi.download_dataset(\"v4.1/train.parquet\", \"train.parquet\")\n",
    "napi.download_dataset(\"v4.1/live.parquet\", \"live.parquet\")\n",
    "\n",
    "df = pd.read_parquet(\"train.parquet\")\n",
    "df\n"
   ]
  }
 ],
 "metadata": {
  "kernelspec": {
   "display_name": "Python 3 (ipykernel)",
   "language": "python",
   "name": "python3"
  },
  "language_info": {
   "codemirror_mode": {
    "name": "ipython",
    "version": 3
   },
   "file_extension": ".py",
   "mimetype": "text/x-python",
   "name": "python",
   "nbconvert_exporter": "python",
   "pygments_lexer": "ipython3",
   "version": "3.10.6"
  },
  "orig_nbformat": 4
 },
 "nbformat": 4,
 "nbformat_minor": 2
}
